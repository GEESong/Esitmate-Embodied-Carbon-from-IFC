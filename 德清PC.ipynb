{
 "cells": [
  {
   "cell_type": "code",
   "execution_count": 11,
   "metadata": {},
   "outputs": [],
   "source": [
    "import sys\n",
    "import ifcopenshell\n",
    "import math"
   ]
  },
  {
   "cell_type": "code",
   "execution_count": 18,
   "metadata": {},
   "outputs": [
    {
     "data": {
      "text/plain": [
       "214"
      ]
     },
     "execution_count": 18,
     "metadata": {},
     "output_type": "execute_result"
    }
   ],
   "source": [
    "m=ifcopenshell.open(r\"C:\\Users\\87457\\Desktop\\IFC2x3 2.0.ifc\")\n",
    "elements=m.by_type(\"IfcBuildingElement\")\n",
    "elements\n",
    "len(elements)"
   ]
  },
  {
   "cell_type": "code",
   "execution_count": null,
   "metadata": {},
   "outputs": [],
   "source": [
    "\"\"\"\n",
    "e_test=[]\n",
    "for e in elements:\n",
    "    if e.is_a(\"IfcReinforcingBar\"):\n",
    "        e_test.append(e)\n",
    "e_test\n",
    "len(e_test)\n",
    "\"\"\""
   ]
  },
  {
   "cell_type": "markdown",
   "metadata": {},
   "source": [
    "确定ifc中entity的类型有几种，不是objecttype"
   ]
  },
  {
   "cell_type": "code",
   "execution_count": 13,
   "metadata": {},
   "outputs": [
    {
     "data": {
      "text/plain": [
       "['IfcBuildingElementProxy',\n",
       " 'IfcWall',\n",
       " 'IfcWallStandardCase',\n",
       " 'IfcDoor',\n",
       " 'IfcStair',\n",
       " 'IfcStairFlight',\n",
       " 'IfcMember',\n",
       " 'IfcWindow',\n",
       " 'IfcSlab',\n",
       " 'IfcColumn',\n",
       " 'IfcBeam',\n",
       " 'IfcRailing']"
      ]
     },
     "execution_count": 13,
     "metadata": {},
     "output_type": "execute_result"
    }
   ],
   "source": [
    "elements_entity_type=[]\n",
    "\n",
    "for e in elements:\n",
    "    e_entity_type=e.is_a()\n",
    "    if e_entity_type not in elements_entity_type:\n",
    "        elements_entity_type.append(e_entity_type)\n",
    "\n",
    "elements_entity_type"
   ]
  },
  {
   "cell_type": "markdown",
   "metadata": {},
   "source": [
    "确定有几种objecttype以及它们的数量"
   ]
  },
  {
   "cell_type": "code",
   "execution_count": 14,
   "metadata": {},
   "outputs": [
    {
     "data": {
      "text/plain": [
       "{'屋顶板3.0:屋顶板3.0': 1,\n",
       " '地面板:地面板': 1,\n",
       " 'YTTM Lower Level:YTTM Lower Level': 1,\n",
       " '基本墙:常规 - 200mm': 25,\n",
       " '基本墙:常规 - 225mm 砌体': 10,\n",
       " '旋转门:2400 x 2500mm': 1,\n",
       " '组合楼梯:190mm 最大踢面 250mm 梯段': 4,\n",
       " '非整体梯段:50mm 踏板 13mm 踢面': 4,\n",
       " '梯边梁:梯边梁 - 50mm 宽度': 8,\n",
       " '玻璃隔断BG2722-BG2822:BG2022_B 3000': 9,\n",
       " '玻璃隔断:1000*4000mm': 2,\n",
       " '玻璃隔断:1000*3500mm': 2,\n",
       " '玻璃隔断:1000*3000mm': 2,\n",
       " '玻璃隔断:2000*2500': 2,\n",
       " \"门联窗_四扇:A_门联窗_四扇01_MLC4526'\": 2,\n",
       " '玻璃雨篷:食堂玻璃雨蓬': 16,\n",
       " '玻璃隔断BG2722-BG2822:BG2022_B 3000*1000': 7,\n",
       " '基本墙:内部 - 砌块墙 100': 49,\n",
       " '基本墙:常规 - 140mm 砌体': 7,\n",
       " '单扇 - 与墙齐:750 x 2000mm': 5,\n",
       " '楼板:常规 - 120mm': 2,\n",
       " '混凝土 - 圆形 - 柱:1000': 25,\n",
       " '混凝土 - 矩形梁:1000 x 800mm': 4,\n",
       " '混凝土 - 矩形梁:500 x 800mm': 10,\n",
       " '固定:0406 x 0610mm': 1,\n",
       " '栏杆扶手:900mm 圆管': 13,\n",
       " '栏杆扶手:玻璃嵌板 - 底部填充': 1}"
      ]
     },
     "execution_count": 14,
     "metadata": {},
     "output_type": "execute_result"
    }
   ],
   "source": [
    "#用字典来筛选objecttype和number\n",
    "elements_type_number={}\n",
    "for e in elements:\n",
    "    i=1\n",
    "\n",
    "    e_type=e.ObjectType\n",
    "    #将新查询到的objecttype与已经查询出来的objecttype对比\n",
    "    if elements_type_number.get(e_type)==None:\n",
    "        elements_type_number[e_type]=i\n",
    "    elif elements_type_number.get(e_type)!=None:\n",
    "        j=elements_type_number[e_type]\n",
    "        elements_type_number[e_type]=j+1\n",
    "\n",
    "elements_type_number\n",
    "#len(elements_type_number)"
   ]
  },
  {
   "cell_type": "markdown",
   "metadata": {},
   "source": [
    "构件体积"
   ]
  },
  {
   "cell_type": "markdown",
   "metadata": {},
   "source": [
    "Test:\n",
    "volume existed: column/beam/wall/IfcBuildingElementProxy/IfcSlab\n",
    "volume lost: IfcReinforcingBar-“体积”这个量存在的位置和其他构件是不同的"
   ]
  },
  {
   "cell_type": "code",
   "execution_count": 34,
   "metadata": {},
   "outputs": [
    {
     "data": {
      "text/plain": [
       "'\\ne_test=[]\\nfor e in elements:\\n    if e.is_a(\"IfcRailing\"):\\n        e_test.append(e)\\ne_test\\n#len(e_test)\\n'"
      ]
     },
     "execution_count": 34,
     "metadata": {},
     "output_type": "execute_result"
    }
   ],
   "source": [
    "\"\"\"\n",
    "e_test=[]\n",
    "for e in elements:\n",
    "    if e.is_a(\"IfcRailing\"):\n",
    "        e_test.append(e)\n",
    "e_test\n",
    "#len(e_test)\n",
    "\"\"\"\n"
   ]
  },
  {
   "cell_type": "code",
   "execution_count": null,
   "metadata": {},
   "outputs": [],
   "source": []
  },
  {
   "cell_type": "code",
   "execution_count": 35,
   "metadata": {},
   "outputs": [
    {
     "data": {
      "text/plain": [
       "184"
      ]
     },
     "execution_count": 35,
     "metadata": {},
     "output_type": "execute_result"
    }
   ],
   "source": [
    "volumes=[]\n",
    "for e in elements:\n",
    "    if e.is_a(\"IfcReinforcingBar\"):\n",
    "        e_props = e.IsDefinedBy\n",
    "        for e_prop in e_props:\n",
    "            if e_prop.is_a(\"IfcRelDefinesByProperties\"):\n",
    "                e_prop_set = e_prop.RelatingPropertyDefinition\n",
    "                if e_prop_set.Name == \"结构\" or e_prop_set.Name == \"Structure\":\n",
    "                    e_set_value = e_prop_set.HasProperties\n",
    "                    for e_value in e_set_value:\n",
    "                        if e_value.Name == \"钢筋体积\" or e_value.Name == \"Volume\": #英文待确定\n",
    "                            v = e_value.NominalValue\n",
    "                            volumes.append(v.wrappedValue)\n",
    "    else:\n",
    "        e_props = e.IsDefinedBy\n",
    "        for e_prop in e_props:\n",
    "            if e_prop.is_a(\"IfcRelDefinesByProperties\"):\n",
    "                e_prop_set = e_prop.RelatingPropertyDefinition\n",
    "                if e_prop_set.Name == \"尺寸标注\" or e_prop_set.Name == \"Dimensions\":\n",
    "                    e_set_value = e_prop_set.HasProperties\n",
    "                    for e_value in e_set_value:\n",
    "                        if e_value.Name == \"体积\" or e_value.Name == \"Volume\": #英文待确定\n",
    "                            v = e_value.NominalValue\n",
    "                            volumes.append(v.wrappedValue)\n",
    "                    \n",
    "volumes\n",
    "len(volumes)\n"
   ]
  },
  {
   "cell_type": "markdown",
   "metadata": {},
   "source": [
    "构件材料"
   ]
  },
  {
   "cell_type": "markdown",
   "metadata": {},
   "source": [
    "Test:\n",
    "Volume Existed: Column/Beam/Wall/IfcSlab/IfcBuildingElementProxy"
   ]
  },
  {
   "cell_type": "code",
   "execution_count": 17,
   "metadata": {},
   "outputs": [
    {
     "data": {
      "text/plain": [
       "214"
      ]
     },
     "execution_count": 17,
     "metadata": {},
     "output_type": "execute_result"
    }
   ],
   "source": [
    "mas=[]\n",
    "for e in elements:\n",
    "    if e.HasAssociations!=():\n",
    "        e_ass=e.HasAssociations\n",
    "        e_ass=e_ass[0]\n",
    "        e_ma=e_ass.RelatingMaterial\n",
    "        mas.append(e_ma)\n",
    "    elif e.HasAssociations==():\n",
    "        mas.append(\"null\")\n",
    "\n",
    "mas\n",
    "#len(mas)\n",
    "\n",
    "mas_final=[]\n",
    "for ma in mas:\n",
    "    if ma==\"null\":\n",
    "        ma=ma\n",
    "    elif ma.is_a(\"IfcMaterial\"):\n",
    "        ma=ma.Name\n",
    "    elif ma.is_a(\"IfcMaterialList\"):\n",
    "        ma=ma.Materials #ma.Material是个元组\n",
    "    elif ma.is_a(\"IfcMaterialLayerSetUsage\"): #针对墙\n",
    "        ma_set=ma.ForLayerSet\n",
    "        ma_setlayers=ma_set.MaterialLayers[0]\n",
    "        ma=ma_setlayers.Material\n",
    "        ma=ma.Name #如果没有Name，可删\n",
    "    mas_final.append(ma)\n",
    "\n",
    "mas_final \n",
    "len(mas_final)"
   ]
  }
 ],
 "metadata": {
  "interpreter": {
   "hash": "5f8104ad6b09e67b042c30caad13e30a7260797bdb347b97b66669fbddb7b0c5"
  },
  "kernelspec": {
   "display_name": "Python 3.9.7 64-bit",
   "language": "python",
   "name": "python3"
  },
  "language_info": {
   "codemirror_mode": {
    "name": "ipython",
    "version": 3
   },
   "file_extension": ".py",
   "mimetype": "text/x-python",
   "name": "python",
   "nbconvert_exporter": "python",
   "pygments_lexer": "ipython3",
   "version": "3.9.7"
  },
  "orig_nbformat": 4
 },
 "nbformat": 4,
 "nbformat_minor": 2
}
